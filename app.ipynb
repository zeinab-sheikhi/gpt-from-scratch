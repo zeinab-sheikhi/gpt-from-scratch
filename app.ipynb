{
 "cells": [
  {
   "cell_type": "code",
   "execution_count": 3,
   "metadata": {},
   "outputs": [
    {
     "name": "stdout",
     "output_type": "stream",
     "text": [
      "length of the dataset in characters: 1115394\n"
     ]
    }
   ],
   "source": [
    "with open('data/input.txt', 'r', encoding='utf-8') as f:\n",
    "    text = f.read()\n",
    "print('length of the dataset in characters:', len(text))"
   ]
  },
  {
   "cell_type": "code",
   "execution_count": 5,
   "metadata": {},
   "outputs": [
    {
     "name": "stdout",
     "output_type": "stream",
     "text": [
      "First Citizen:\n",
      "Before we proceed any further, hear me speak.\n",
      "\n",
      "All:\n",
      "Speak, speak.\n",
      "\n",
      "First Citizen:\n",
      "You are all resolved rather to die than to famish?\n",
      "\n",
      "All:\n",
      "Resolved. resolved.\n",
      "\n",
      "First Citizen:\n",
      "First, you know Caius Marcius is chief enemy to the people.\n",
      "\n",
      "All:\n",
      "We know't, we know't.\n",
      "\n",
      "First Citizen:\n",
      "Let us kill him, and we'll have corn at our own price.\n",
      "Is't a verdict?\n",
      "\n",
      "All:\n",
      "No more talking on't; let it be done: away, away!\n",
      "\n",
      "Second Citizen:\n",
      "One word, good citizens.\n",
      "\n",
      "First Citizen:\n",
      "We are accounted poor citizens, the patricians good.\n",
      "What authority surfeits on would relieve us: if they\n",
      "would yield us but the superfluity, while it were\n",
      "wholesome, we might guess they relieved us humanely;\n",
      "but they think we are too dear: the leanness that\n",
      "afflicts us, the object of our misery, is as an\n",
      "inventory to particularise their abundance; our\n",
      "sufferance is a gain to them Let us revenge this with\n",
      "our pikes, ere we become rakes: for the gods know I\n",
      "speak this in hunger for bread, not in thirst for revenge.\n",
      "\n",
      "\n"
     ]
    }
   ],
   "source": [
    "# Let's look at the first 1000 characters\n",
    "print(text[:1000])"
   ]
  },
  {
   "cell_type": "code",
   "execution_count": 15,
   "metadata": {},
   "outputs": [
    {
     "name": "stdout",
     "output_type": "stream",
     "text": [
      "\n",
      " !$&',-.3:;?ABCDEFGHIJKLMNOPQRSTUVWXYZabcdefghijklmnopqrstuvwxyz\n",
      "65\n"
     ]
    }
   ],
   "source": [
    "# here are all the unique characters that appear in the text\n",
    "chars = sorted(list(set(text)))\n",
    "vocab_size = len(chars)\n",
    "print(''.join(chars))\n",
    "print(vocab_size) "
   ]
  },
  {
   "cell_type": "code",
   "execution_count": 23,
   "metadata": {},
   "outputs": [
    {
     "name": "stdout",
     "output_type": "stream",
     "text": [
      "[46, 47, 1, 58, 46, 43, 56, 43]\n",
      "hi there\n"
     ]
    }
   ],
   "source": [
    "stoi = { ch: i for i, ch in enumerate(chars)}\n",
    "itos = { i: ch for i, ch in enumerate(chars)}\n",
    "encode = lambda s: [stoi[ch] for ch in s] # encoder: takes a string, outputs a list of integers\n",
    "decode = lambda l: ''.join(itos[ix] for ix in l) # decoder: takes a list of integers, outputs a string\n",
    "\n",
    "print(encode('hi there'))\n",
    "print(decode(encode('hi there')))"
   ]
  },
  {
   "cell_type": "markdown",
   "metadata": {},
   "source": [
    "what is the difference between the two below code?\n",
    "\n",
    "```decode = lambda l: ''.join([itos[ix] for ix in l])```\n",
    "\n",
    "```decode = lambda l: ''.join(itos[ix] for ix in l)```\n",
    "\n",
    "\n",
    "Let me explain the difference between these two code snippets. \n",
    "\n",
    "While they achieve the same result, there's a subtle syntactic difference:\n",
    "\n",
    "decode = lambda l: ''.join([itos[ix] for ix in l])\n",
    "\n",
    "This version uses a list comprehension [itos[ix] for ix in l]\n",
    "It creates a full list in memory first, then joins it\n",
    "The square brackets [] indicate that a new list object is being created\n",
    "\n",
    "decode = lambda l: ''.join(itos[ix] for ix in l)\n",
    "\n",
    "This version uses a generator expression (itos[ix] for ix in l)\n",
    "It generates values one at a time without creating a full list\n",
    "No square brackets means it's a generator expression\n",
    "The main practical differences are:\n",
    "Memory efficiency: The generator version (second one) is more memory efficient because it doesn't create an intermediate list. It generates each value on-the-fly as needed by join().\n",
    "\n",
    "Performance:\n",
    "For small sequences, the list comprehension might be slightly faster since it has less overhead\n",
    "\n",
    "For large sequences, the generator version is better as it uses less memory\n",
    "In most cases, the difference in performance would be negligible, but if you're working with very large sequences, the generator version (second one) would be the better choice due to its memory efficiency. Both will produce exactly the same output - they just differ in how they get there."
   ]
  },
  {
   "cell_type": "code",
   "execution_count": 32,
   "metadata": {},
   "outputs": [
    {
     "name": "stdout",
     "output_type": "stream",
     "text": [
      "torch.Size([1115394]) torch.int64\n",
      "tensor([18, 47, 56, 57, 58,  1, 15, 47, 58, 47, 64, 43, 52, 10,  0, 14, 43, 44,\n",
      "        53, 56, 43,  1, 61, 43,  1, 54, 56, 53, 41, 43, 43, 42,  1, 39, 52, 63,\n",
      "         1, 44, 59, 56, 58, 46, 43, 56,  6,  1, 46, 43, 39, 56,  1, 51, 43,  1,\n",
      "        57, 54, 43, 39, 49,  8,  0,  0, 13, 50, 50, 10,  0, 31, 54, 43, 39, 49,\n",
      "         6,  1, 57, 54, 43, 39, 49,  8,  0,  0, 18, 47, 56, 57, 58,  1, 15, 47,\n",
      "        58, 47, 64, 43, 52, 10,  0, 37, 53, 59])\n"
     ]
    }
   ],
   "source": [
    "# tokenize the enitre dataset and store it in a tensor\n",
    "import torch\n",
    "data = torch.tensor(encode(text), dtype=torch.long)\n",
    "# data = data.unsqueeze(0)\n",
    "print(data.shape, data.dtype)\n",
    "print(data[:100])"
   ]
  },
  {
   "cell_type": "code",
   "execution_count": 35,
   "metadata": {},
   "outputs": [],
   "source": [
    "# split the dataset into train and validation sets (90%)\n",
    "n = int(len(data) * 0.9)\n",
    "train_data = data[:n]\n",
    "val_data = data[n:]"
   ]
  },
  {
   "cell_type": "code",
   "execution_count": 37,
   "metadata": {},
   "outputs": [
    {
     "name": "stdout",
     "output_type": "stream",
     "text": [
      "when input is tensor([18]), the target: 47\n",
      "when input is tensor([18, 47]), the target: 56\n",
      "when input is tensor([18, 47, 56]), the target: 57\n",
      "when input is tensor([18, 47, 56, 57]), the target: 58\n",
      "when input is tensor([18, 47, 56, 57, 58]), the target: 1\n",
      "when input is tensor([18, 47, 56, 57, 58,  1]), the target: 15\n",
      "when input is tensor([18, 47, 56, 57, 58,  1, 15]), the target: 47\n",
      "when input is tensor([18, 47, 56, 57, 58,  1, 15, 47]), the target: 58\n"
     ]
    }
   ],
   "source": [
    "# Time Dimention of the input tensors feeding into the transformer\n",
    "\n",
    "block_size = 8\n",
    "\n",
    "x = train_data[:block_size]\n",
    "y = train_data[1:block_size+1]\n",
    "for t in range(block_size):\n",
    "    context = x[:t+1]\n",
    "    target = y[t]\n",
    "    print(f\"when input is {context}, the target: {target}\")"
   ]
  },
  {
   "cell_type": "code",
   "execution_count": 43,
   "metadata": {},
   "outputs": [
    {
     "name": "stdout",
     "output_type": "stream",
     "text": [
      "inputs: \n",
      "torch.Size([4, 8])\n",
      "tensor([[24, 43, 58,  5, 57,  1, 46, 43],\n",
      "        [44, 53, 56,  1, 58, 46, 39, 58],\n",
      "        [52, 58,  1, 58, 46, 39, 58,  1],\n",
      "        [25, 17, 27, 10,  0, 21,  1, 54]])\n",
      "targets: \n",
      "torch.Size([4, 8])\n",
      "tensor([[43, 58,  5, 57,  1, 46, 43, 39],\n",
      "        [53, 56,  1, 58, 46, 39, 58,  1],\n",
      "        [58,  1, 58, 46, 39, 58,  1, 46],\n",
      "        [17, 27, 10,  0, 21,  1, 54, 39]])\n",
      "-----\n",
      "When input is  [24] the target:  43\n",
      "When input is  [24, 43] the target:  58\n",
      "When input is  [24, 43, 58] the target:  5\n",
      "When input is  [24, 43, 58, 5] the target:  57\n",
      "When input is  [24, 43, 58, 5, 57] the target:  1\n",
      "When input is  [24, 43, 58, 5, 57, 1] the target:  46\n",
      "When input is  [24, 43, 58, 5, 57, 1, 46] the target:  43\n",
      "When input is  [24, 43, 58, 5, 57, 1, 46, 43] the target:  39\n",
      "When input is  [44] the target:  53\n",
      "When input is  [44, 53] the target:  56\n",
      "When input is  [44, 53, 56] the target:  1\n",
      "When input is  [44, 53, 56, 1] the target:  58\n",
      "When input is  [44, 53, 56, 1, 58] the target:  46\n",
      "When input is  [44, 53, 56, 1, 58, 46] the target:  39\n",
      "When input is  [44, 53, 56, 1, 58, 46, 39] the target:  58\n",
      "When input is  [44, 53, 56, 1, 58, 46, 39, 58] the target:  1\n",
      "When input is  [52] the target:  58\n",
      "When input is  [52, 58] the target:  1\n",
      "When input is  [52, 58, 1] the target:  58\n",
      "When input is  [52, 58, 1, 58] the target:  46\n",
      "When input is  [52, 58, 1, 58, 46] the target:  39\n",
      "When input is  [52, 58, 1, 58, 46, 39] the target:  58\n",
      "When input is  [52, 58, 1, 58, 46, 39, 58] the target:  1\n",
      "When input is  [52, 58, 1, 58, 46, 39, 58, 1] the target:  46\n",
      "When input is  [25] the target:  17\n",
      "When input is  [25, 17] the target:  27\n",
      "When input is  [25, 17, 27] the target:  10\n",
      "When input is  [25, 17, 27, 10] the target:  0\n",
      "When input is  [25, 17, 27, 10, 0] the target:  21\n",
      "When input is  [25, 17, 27, 10, 0, 21] the target:  1\n",
      "When input is  [25, 17, 27, 10, 0, 21, 1] the target:  54\n",
      "When input is  [25, 17, 27, 10, 0, 21, 1, 54] the target:  39\n"
     ]
    }
   ],
   "source": [
    "# Batch Dimention\n",
    "# We are going to have mini batches of multiple chunks of text all stacked up in a single tensor\n",
    "# We want to process multiple chunks at the same time since we are using GPUs which are good at parallel processing\n",
    "\n",
    "torch.manual_seed(1337)\n",
    "batch_size = 4 # how many independent sequences will we process in parallel?\n",
    "block_size = 8 # what is the maximum context length for predictions?\n",
    "\n",
    "\n",
    "def get_batch(split):\n",
    "    # generate a small batch of data of inputs x and taregs y\n",
    "    data = train_data if split == 'train' else val_data\n",
    "    # The reason we subtract block_size from len(data) in torch.randint(len(data) - block_size, (batch_size,)) is to ensure we can always get a complete sequence of length block_size starting from any randomly chosen index.\n",
    "    ix = torch.randint(len(data)- block_size, (batch_size, ))\n",
    "    x = torch.stack([data[i:i+block_size] for i in ix])\n",
    "    y = torch.stack([data[i+1:i+block_size+1] for i in ix])\n",
    "    return x, y\n",
    "\n",
    "xb, yb = get_batch('train')\n",
    "print('inputs: ')\n",
    "print(xb.shape)\n",
    "print(xb)\n",
    "print('targets: ')\n",
    "print(yb.shape)\n",
    "print(yb)\n",
    "\n",
    "print('-----')\n",
    "for b in range(batch_size):\n",
    "    for t in range(block_size):\n",
    "        context = xb[b, : t+1]\n",
    "        target = yb[b, t]\n",
    "        print(\"When input is \", context.tolist(), \"the target: \", target.tolist())"
   ]
  },
  {
   "cell_type": "code",
   "execution_count": 44,
   "metadata": {},
   "outputs": [
    {
     "name": "stdout",
     "output_type": "stream",
     "text": [
      "tensor([[24, 43, 58,  5, 57,  1, 46, 43],\n",
      "        [44, 53, 56,  1, 58, 46, 39, 58],\n",
      "        [52, 58,  1, 58, 46, 39, 58,  1],\n",
      "        [25, 17, 27, 10,  0, 21,  1, 54]])\n"
     ]
    }
   ],
   "source": [
    "print(xb)"
   ]
  },
  {
   "cell_type": "code",
   "execution_count": 45,
   "metadata": {},
   "outputs": [],
   "source": [
    "import torch\n",
    "import torch.nn.functional as F\n",
    "import matplotlib.pyplot as plt\n",
    "\n",
    "class BigramLanguageModel(nn.Module):\n",
    "    def __init__(self):\n",
    "        pass\n",
    "    def forward(self):\n",
    "        pass"
   ]
  },
  {
   "cell_type": "code",
   "execution_count": null,
   "metadata": {},
   "outputs": [],
   "source": []
  }
 ],
 "metadata": {
  "kernelspec": {
   "display_name": "M2",
   "language": "python",
   "name": "python3"
  },
  "language_info": {
   "codemirror_mode": {
    "name": "ipython",
    "version": 3
   },
   "file_extension": ".py",
   "mimetype": "text/x-python",
   "name": "python",
   "nbconvert_exporter": "python",
   "pygments_lexer": "ipython3",
   "version": "3.11.10"
  }
 },
 "nbformat": 4,
 "nbformat_minor": 2
}
